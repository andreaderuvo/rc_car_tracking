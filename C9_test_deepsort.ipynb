{
  "cells": [
    {
      "cell_type": "markdown",
      "metadata": {
        "id": "view-in-github",
        "colab_type": "text"
      },
      "source": [
        "<a href=\"https://colab.research.google.com/github/andreaderuvo/rc_car_tracking/blob/main/C9_test_deepsort.ipynb\" target=\"_parent\"><img src=\"https://colab.research.google.com/assets/colab-badge.svg\" alt=\"Open In Colab\"/></a>"
      ]
    },
    {
      "cell_type": "code",
      "execution_count": null,
      "metadata": {
        "id": "AEYtN1ApJnvY"
      },
      "outputs": [],
      "source": [
        "#install tensorflow-gpu\n",
        "!pip install tensorflow-gpu==1.15.0"
      ]
    },
    {
      "cell_type": "code",
      "execution_count": null,
      "metadata": {
        "id": "Km6FOF7bJrZA"
      },
      "outputs": [],
      "source": [
        "#import tensorflow and check version\n",
        "import tensorflow\n",
        "print(tensorflow.__version__)"
      ]
    },
    {
      "cell_type": "code",
      "execution_count": null,
      "metadata": {
        "id": "WSKkOCh-JfzN"
      },
      "outputs": [],
      "source": [
        "#configuration\n",
        "PROJECT = 'rc_car_tracking'\n",
        "MODEL = 'deepsort'\n",
        "\n",
        "COLAB_BASE_PROJECT = f'/content/{PROJECT}'\n",
        "DRIVE_MOUNT_FOLDER = 'drive'\n",
        "DRIVE_BASE_PROJECT = f'{DRIVE_MOUNT_FOLDER}/MyDrive/{PROJECT}'\n",
        "DRIVE_TRAIN_FOLDER = f'{MODEL}_train'\n",
        "DRIVE_DATASET_FOLDER = f'{MODEL}_dataset'"
      ]
    },
    {
      "cell_type": "code",
      "execution_count": null,
      "metadata": {
        "id": "CFl06EHMJoVB"
      },
      "outputs": [],
      "source": [
        "import os\n",
        "import shutil"
      ]
    },
    {
      "cell_type": "code",
      "execution_count": null,
      "metadata": {
        "id": "ICpVDw5JJkxO"
      },
      "outputs": [],
      "source": [
        "#mount Google Drive\n",
        "from google.colab import drive\n",
        "drive.mount(DRIVE_MOUNT_FOLDER, force_remount=True)"
      ]
    },
    {
      "cell_type": "code",
      "execution_count": null,
      "metadata": {
        "id": "_4A3AxmTLcJu"
      },
      "outputs": [],
      "source": [
        "#symbolic link pointing the google drive base project\n",
        "!ln -s $DRIVE_BASE_PROJECT $COLAB_BASE_PROJECT"
      ]
    },
    {
      "cell_type": "code",
      "execution_count": null,
      "metadata": {
        "id": "8kPu_frDLg6V"
      },
      "outputs": [],
      "source": [
        "#cloning the cosine_metric_learning repo\n",
        "!git clone https://github.com/nwojke/cosine_metric_learning"
      ]
    },
    {
      "cell_type": "code",
      "execution_count": null,
      "metadata": {
        "id": "GeRwF4JRLhtN"
      },
      "outputs": [],
      "source": [
        "%cd cosine_metric_learning/"
      ]
    },
    {
      "cell_type": "code",
      "execution_count": null,
      "metadata": {
        "id": "-uWQr8a5Ljzc"
      },
      "outputs": [],
      "source": [
        "#download and place customized files for custom dataset\n",
        "!wget https://raw.githubusercontent.com/andreaderuvo/rc_car_tracking/main/cosine_metric_learning/datasets/rc.py\n",
        "!mv rc.py datasets/rc.py\n",
        "!wget https://raw.githubusercontent.com/andreaderuvo/rc_car_tracking/main/cosine_metric_learning/train_rc.py\n",
        "!rm train_app.py\n",
        "!wget https://raw.githubusercontent.com/andreaderuvo/rc_car_tracking/main/cosine_metric_learning/train_app.py"
      ]
    },
    {
      "cell_type": "code",
      "execution_count": null,
      "metadata": {
        "id": "C2HwqJm0Lx_D"
      },
      "outputs": [],
      "source": [
        "!rm -rf $COLAB_BASE_PROJECT/$DRIVE_TRAIN_FOLDER/log/eval"
      ]
    },
    {
      "cell_type": "code",
      "execution_count": null,
      "metadata": {
        "id": "ZTERLvB2LslM"
      },
      "outputs": [],
      "source": [
        "#evaluate\n",
        "!python train_rc.py --mode=eval --dataset_dir=$COLAB_BASE_PROJECT/$DRIVE_DATASET_FOLDER --loss_mode=cosine-softmax --log_dir=$COLAB_BASE_PROJECT/$DRIVE_TRAIN_FOLDER/log/train --run_id=cosine-softmax --eval_log_dir=$COLAB_BASE_PROJECT/$DRIVE_TRAIN_FOLDER/log/eval"
      ]
    },
    {
      "cell_type": "code",
      "execution_count": null,
      "metadata": {
        "id": "i_5ITISbM7Nr"
      },
      "outputs": [],
      "source": [
        "%load_ext tensorboard\n",
        "\n",
        "%tensorboard --logdir $COLAB_BASE_PROJECT/$DRIVE_TRAIN_FOLDER/log/eval"
      ]
    }
  ],
  "metadata": {
    "colab": {
      "collapsed_sections": [],
      "name": "test_deepsort.ipynb",
      "provenance": [],
      "authorship_tag": "ABX9TyPSU/iz82d1fZpbxe3sj/V8",
      "include_colab_link": true
    },
    "kernelspec": {
      "display_name": "Python 3",
      "name": "python3"
    },
    "language_info": {
      "name": "python"
    }
  },
  "nbformat": 4,
  "nbformat_minor": 0
}