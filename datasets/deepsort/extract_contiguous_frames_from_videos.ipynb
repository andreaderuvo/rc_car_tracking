{
  "nbformat": 4,
  "nbformat_minor": 0,
  "metadata": {
    "colab": {
      "name": "extract_random_frames_from_videos.ipynb",
      "provenance": [],
      "collapsed_sections": [],
      "include_colab_link": true
    },
    "kernelspec": {
      "name": "python3",
      "display_name": "Python 3"
    },
    "language_info": {
      "name": "python"
    },
    "gpuClass": "standard"
  },
  "cells": [
    {
      "cell_type": "markdown",
      "metadata": {
        "id": "view-in-github",
        "colab_type": "text"
      },
      "source": [
        "<a href=\"https://colab.research.google.com/github/andreaderuvo/rc_car_tracking/blob/main/datasets/deepsort/extract_contiguous_frames_from_videos.ipynb\" target=\"_parent\"><img src=\"https://colab.research.google.com/assets/colab-badge.svg\" alt=\"Open In Colab\"/></a>"
      ]
    },
    {
      "cell_type": "code",
      "source": [
        "MODEL = 'yolo'\n",
        "\n",
        "#folder where to upload videos manually or from Google Drive\n",
        "INPUT_VIDEOS_FOLDER = 'videos'\n",
        "OUTPUT_IMAGES_FOLDER = 'images'\n",
        "MAX_NUMBER_OF_FRAMES_PER_VIDEO = 100\n",
        "\n",
        "#set to False for continuous frames\n",
        "RANDOMNESS = True\n",
        "\n",
        "#Google Drive settings\n",
        "DRIVE_MOUNT_FOLDER = 'drive'\n",
        "DRIVE_VIDEO_FOLDER = 'MyDrive/rc_car_tracking/videos'\n",
        "DRIVE_UPLOAD_FOLDER = f'MyDrive/rc_car_tracking/{MODEL}_images'"
      ],
      "metadata": {
        "id": "l7v6RLuekbn5"
      },
      "execution_count": null,
      "outputs": []
    },
    {
      "cell_type": "code",
      "source": [
        "import cv2\n",
        "import os, datetime\n",
        "import random\n",
        "from os import listdir\n",
        "import shutil\n",
        "import time"
      ],
      "metadata": {
        "id": "v2j_E0mAl9xz"
      },
      "execution_count": null,
      "outputs": []
    },
    {
      "cell_type": "code",
      "source": [
        "#check if the execution environment is Google Colab\n",
        "try:\n",
        "  import google.colab\n",
        "  IN_COLAB = True\n",
        "except:\n",
        "  IN_COLAB = False"
      ],
      "metadata": {
        "id": "9zjVaypjkAGx"
      },
      "execution_count": null,
      "outputs": []
    },
    {
      "cell_type": "code",
      "source": [
        "# Empty folder OUTPUT_IMAGES_FOLDER\n",
        "shutil.rmtree(INPUT_VIDEOS_FOLDER, ignore_errors=True)\n",
        "os.makedirs(OUTPUT_IMAGES_FOLDER, exist_ok=True)"
      ],
      "metadata": {
        "id": "C1-CAh6-mnTt"
      },
      "execution_count": null,
      "outputs": []
    },
    {
      "cell_type": "code",
      "source": [
        "# Empty folder OUTPUT_VIDEOS_FOLDER\n",
        "shutil.rmtree(INPUT_VIDEOS_FOLDER, ignore_errors=True)\n",
        "os.makedirs(INPUT_VIDEOS_FOLDER, exist_ok=True)"
      ],
      "metadata": {
        "id": "rfzNAAqqdAYc"
      },
      "execution_count": null,
      "outputs": []
    },
    {
      "cell_type": "code",
      "execution_count": null,
      "metadata": {
        "id": "cHYDDIx5pkiX",
        "colab": {
          "base_uri": "https://localhost:8080/"
        },
        "outputId": "62f4228b-10ca-4882-be80-28b25a78bade"
      },
      "outputs": [
        {
          "output_type": "stream",
          "name": "stdout",
          "text": [
            "Mounted at drive\n"
          ]
        }
      ],
      "source": [
        "#copy downloaded videos from Google Drive to INPUT_FOLDER\n",
        "#skip this if you upload videos manually in INPUT_FOLDER\n",
        "if IN_COLAB:\n",
        "  from google.colab import drive\n",
        "  import shutil\n",
        "  drive.mount(DRIVE_MOUNT_FOLDER, force_remount=True)\n",
        "  google_drive_video_folder = os.path.join(DRIVE_MOUNT_FOLDER, DRIVE_VIDEO_FOLDER)\n",
        "  for file in os.listdir(google_drive_video_folder):\n",
        "    file_path = os.path.join(google_drive_video_folder, file)\n",
        "    shutil.copy(file_path, INPUT_VIDEOS_FOLDER)\n",
        "  drive.flush_and_unmount()"
      ]
    },
    {
      "cell_type": "code",
      "source": [
        "# Interval of frames considered in percentages (0 -> 0%, 1->100%)\n",
        "P_FRAMES = (0.2,0.8)\n",
        "\n",
        "# Extract random images in OUTPUT_IMAGES_FOLDER from each video in INPUT_VIDEOS_FOLDER\n",
        "videos = os.listdir(INPUT_VIDEOS_FOLDER)\n",
        "\n",
        "for i,video in enumerate(videos):\n",
        "  \n",
        "  if not video.endswith(\".mp4\"):\n",
        "    continue;\n",
        "\n",
        "  cap = cv2.VideoCapture(f\"{INPUT_VIDEOS_FOLDER}/{video}\")\n",
        "\n",
        "  if not cap.isOpened(): \n",
        "    print(f'Could not open video {video}, {i+1}/{len(videos)}')\n",
        "    break;\n",
        "\n",
        "  length = int(cap.get(cv2.CAP_PROP_FRAME_COUNT))\n",
        "  print(f'Processing video {video} with {length} frames, {i+1}/{len(videos)}')\n",
        "\n",
        "  deck = list(range(int(length * P_FRAMES[0]), int(length * P_FRAMES[1])))\n",
        "\n",
        "  if len(deck) < MAX_NUMBER_OF_FRAMES_PER_VIDEO:\n",
        "    print(f'Video {video} does not contain enough frames ({length} total frames) to extract in according to MAX_NUMBER_OF_FRAMES_PER_VIDEO ({MAX_NUMBER_OF_FRAMES_PER_VIDEO}) set')\n",
        "    break;\n",
        "\n",
        "  if RANDOMNESS:\n",
        "    random.shuffle(deck)  \n",
        "\n",
        "  num_image = 0      \n",
        "  counter = 0;\n",
        "\n",
        "  while num_image < MAX_NUMBER_OF_FRAMES_PER_VIDEO:\n",
        "    num_frame = deck.pop(0)\n",
        "    cap.set(cv2.CAP_PROP_POS_FRAMES, num_frame - 1)\n",
        "    success, image = cap.read()\n",
        "    if success:\n",
        "      file_name = f'{i + 1}_{num_image}_{num_frame}.jpg'\n",
        "      path = os.path.join(OUTPUT_IMAGES_FOLDER, file_name)\n",
        "      cv2.imwrite(path, image)\n",
        "      print(f\"\\rExtracting random frame {counter + 1} of {MAX_NUMBER_OF_FRAMES_PER_VIDEO}\", end='', flush=True) \n",
        "      num_image += 1\n",
        "      counter += 1\n",
        "    else:\n",
        "      print(f'Error in reading frame {num_frame}...')\n",
        "\n",
        "  print('\\n')"
      ],
      "metadata": {
        "id": "qQmRY7GNNZ-q",
        "colab": {
          "base_uri": "https://localhost:8080/"
        },
        "outputId": "5615ef0e-db9f-41d8-ea01-146e79bcb8c1"
      },
      "execution_count": null,
      "outputs": [
        {
          "output_type": "stream",
          "name": "stdout",
          "text": [
            "Processing video Greatest RC Touring Car Race of 2021 - KOC Rnd 4  Modified Final (EFRA IFMAR).mp4 with 8411 frames, 1/3\n",
            "Extracting random frame 100 of 100\n",
            "\n",
            "Processing video 2020 TITC - Modified A1.mp4 with 21121 frames, 2/3\n",
            "Extracting random frame 100 of 100\n",
            "\n",
            "Processing video 2018 IFMAR ISTC World Championships - A-main Leg 1.mp4 with 10926 frames, 3/3\n",
            "Extracting random frame 100 of 100\n",
            "\n"
          ]
        }
      ]
    },
    {
      "cell_type": "code",
      "source": [
        "#download locally images in a zip file from Google Colab\n",
        "if IN_COLAB:\n",
        "  shutil.make_archive(f'{OUTPUT_IMAGES_FOLDER}', 'zip', OUTPUT_IMAGES_FOLDER)\n",
        "  from google.colab import files\n",
        "  files.download(f'{OUTPUT_IMAGES_FOLDER}.zip')"
      ],
      "metadata": {
        "id": "ll9axxE0seL-"
      },
      "execution_count": null,
      "outputs": []
    },
    {
      "cell_type": "code",
      "source": [
        "#upload images in Google Drive\n",
        "if IN_COLAB:\n",
        "  from google.colab import drive\n",
        "  import shutil\n",
        "  drive.mount(DRIVE_MOUNT_FOLDER, force_remount=True)\n",
        "  googe_drive_folder = os.path.join(DRIVE_MOUNT_FOLDER, DRIVE_UPLOAD_FOLDER)\n",
        "  os.makedirs(googe_drive_folder, exist_ok=True)\n",
        "  for file in os.listdir(OUTPUT_IMAGES_FOLDER):\n",
        "    shutil.copy(os.path.join(OUTPUT_IMAGES_FOLDER, file), googe_drive_folder)\n",
        "  drive.flush_and_unmount()"
      ],
      "metadata": {
        "id": "A6Uq1znBMOKt",
        "colab": {
          "base_uri": "https://localhost:8080/"
        },
        "outputId": "8079ffac-5427-413f-f9bb-d38c04792ad3"
      },
      "execution_count": null,
      "outputs": [
        {
          "output_type": "stream",
          "name": "stdout",
          "text": [
            "Mounted at drive\n"
          ]
        }
      ]
    },
    {
      "cell_type": "code",
      "source": [
        "!nvidia-smi -L"
      ],
      "metadata": {
        "colab": {
          "base_uri": "https://localhost:8080/"
        },
        "id": "uUJ0XfTLfqsi",
        "outputId": "81e9873b-ada9-4041-e260-0ff84d27ff0b"
      },
      "execution_count": null,
      "outputs": [
        {
          "output_type": "stream",
          "name": "stdout",
          "text": [
            "NVIDIA-SMI has failed because it couldn't communicate with the NVIDIA driver. Make sure that the latest NVIDIA driver is installed and running.\n",
            "\n"
          ]
        }
      ]
    }
  ]
}