{
  "nbformat": 4,
  "nbformat_minor": 0,
  "metadata": {
    "colab": {
      "name": "dowload_videos_from_youtube.ipynb",
      "provenance": [],
      "collapsed_sections": [],
      "authorship_tag": "ABX9TyMK9Fjm2Kv2Gp7431bQmfgG",
      "include_colab_link": true
    },
    "kernelspec": {
      "name": "python3",
      "display_name": "Python 3"
    },
    "language_info": {
      "name": "python"
    }
  },
  "cells": [
    {
      "cell_type": "markdown",
      "metadata": {
        "id": "view-in-github",
        "colab_type": "text"
      },
      "source": [
        "<a href=\"https://colab.research.google.com/github/andreaderuvo/rc_car_tracking/blob/main/datasets/dowload_videos_from_youtube.ipynb\" target=\"_parent\"><img src=\"https://colab.research.google.com/assets/colab-badge.svg\" alt=\"Open In Colab\"/></a>"
      ]
    },
    {
      "cell_type": "code",
      "source": [
        "!pip install pytube==12.1.0"
      ],
      "metadata": {
        "colab": {
          "base_uri": "https://localhost:8080/"
        },
        "id": "HCBPJ56svWO6",
        "outputId": "047b245d-0957-4136-9c9e-7c295f3a19f1"
      },
      "execution_count": 5,
      "outputs": [
        {
          "output_type": "stream",
          "name": "stdout",
          "text": [
            "Looking in indexes: https://pypi.org/simple, https://us-python.pkg.dev/colab-wheels/public/simple/\n",
            "Requirement already satisfied: pytube==12.1.0 in /usr/local/lib/python3.7/dist-packages (12.1.0)\n"
          ]
        }
      ]
    },
    {
      "cell_type": "code",
      "execution_count": 4,
      "metadata": {
        "id": "hOnNZCP_vPMa"
      },
      "outputs": [],
      "source": [
        "from pytube import YouTube"
      ]
    },
    {
      "cell_type": "code",
      "source": [
        "links = [\n",
        "  \"https://www.youtube.com/watch?v=CwfQ-c7if90\",\n",
        "  \"https://www.youtube.com/watch?v=gXZeDXmwSQU\",\n",
        "  \"https://www.youtube.com/watch?v=k5K-YBe752M\"\n",
        "]\n",
        "\n",
        "for i,link in enumerate(links):\n",
        "  print(f\"Downloading video {i+1} of {len(links)}...\")\n",
        "  yt = YouTube(link)\n",
        "  yt.streams.filter(file_extension='mp4').order_by('resolution')[-1].download()\n",
        "\n",
        "print('Job done!')"
      ],
      "metadata": {
        "colab": {
          "base_uri": "https://localhost:8080/"
        },
        "id": "IcNTIadnvinr",
        "outputId": "12f6476d-9724-45bc-c2e2-68fc332c47a7"
      },
      "execution_count": null,
      "outputs": [
        {
          "output_type": "stream",
          "name": "stdout",
          "text": [
            "Downloading video 1 of 3...\n",
            "Downloading video 2 of 3...\n",
            "Downloading video 3 of 3...\n"
          ]
        }
      ]
    }
  ]
}