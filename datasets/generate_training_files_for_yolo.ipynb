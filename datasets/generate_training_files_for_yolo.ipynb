{
  "nbformat": 4,
  "nbformat_minor": 0,
  "metadata": {
    "colab": {
      "name": "generate_training_files_for_yolo.ipynb",
      "provenance": [],
      "collapsed_sections": [],
      "authorship_tag": "ABX9TyNVUbjDg23wK5NOlYP+ix8H",
      "include_colab_link": true
    },
    "kernelspec": {
      "name": "python3",
      "display_name": "Python 3"
    },
    "language_info": {
      "name": "python"
    }
  },
  "cells": [
    {
      "cell_type": "markdown",
      "metadata": {
        "id": "view-in-github",
        "colab_type": "text"
      },
      "source": [
        "<a href=\"https://colab.research.google.com/github/andreaderuvo/rc_car_tracking/blob/main/datasets/generate_training_files_for_yolo.ipynb\" target=\"_parent\"><img src=\"https://colab.research.google.com/assets/colab-badge.svg\" alt=\"Open In Colab\"/></a>"
      ]
    },
    {
      "cell_type": "code",
      "source": [
        "INPUT_ANNOTATED_IMAGES_FOLDER = 'annotated_images'\n",
        "OUTPUT_TRAINING_FILES_FOLDER = 'training_files'\n",
        "CLASSES = ['rc_car']\n",
        "DATA_TRAIN_PERCENTAGE = 0.8\n",
        "PREFIX_DATA_FOLDER_FOR_DARKNET = 'data'\n",
        "PREFIX_WEIGHTS_FOLDER_FOR_DARKNET = 'weights'"
      ],
      "metadata": {
        "id": "KrhRQsdmJEHv"
      },
      "execution_count": null,
      "outputs": []
    },
    {
      "cell_type": "code",
      "source": [
        "import os\n",
        "import random\n",
        "import math\n",
        "import shutil"
      ],
      "metadata": {
        "id": "_88FVE-jMGvP"
      },
      "execution_count": null,
      "outputs": []
    },
    {
      "cell_type": "code",
      "source": [
        "#delete and create folder INPUT_ANNOTATED_IMAGES_FOLDER and OUTPUT_TRAINING_FILES_FOLDER\n",
        "shutil.rmtree(INPUT_ANNOTATED_IMAGES_FOLDER, ignore_errors=True)\n",
        "shutil.rmtree(OUTPUT_TRAINING_FILES_FOLDER, ignore_errors=True)\n",
        "os.makedirs(INPUT_ANNOTATED_IMAGES_FOLDER, exist_ok=True)\n",
        "os.makedirs(OUTPUT_TRAINING_FILES_FOLDER, exist_ok=True)"
      ],
      "metadata": {
        "id": "SZkClypcMiUY"
      },
      "execution_count": null,
      "outputs": []
    },
    {
      "cell_type": "code",
      "source": [
        "#check if the execution environment is Google Colab\n",
        "try:\n",
        "  import google.colab\n",
        "  IN_COLAB = True\n",
        "except:\n",
        "  IN_COLAB = False"
      ],
      "metadata": {
        "id": "7ZrQMJTeJXdE"
      },
      "execution_count": null,
      "outputs": []
    },
    {
      "cell_type": "code",
      "source": [
        "#importing annotated images from Google Drive\n",
        "DRIVE_MOUNT_FOLDER = 'drive'\n",
        "DRIVE_ANNOTATED_IMAGES_FOLDER = 'MyDrive/rc_car_tracking/annotated_images'\n",
        "\n",
        "if IN_COLAB:\n",
        "  from google.colab import drive\n",
        "  drive.mount(DRIVE_MOUNT_FOLDER, force_remount=True)\n",
        "  annotated_images_folder = os.path.join(DRIVE_MOUNT_FOLDER, DRIVE_ANNOTATED_IMAGES_FOLDER)\n",
        "  for file in os.listdir(annotated_images_folder):\n",
        "    shutil.copy(os.path.join(annotated_images_folder, file), INPUT_ANNOTATED_IMAGES_FOLDER)\n",
        "  drive.flush_and_unmount()  "
      ],
      "metadata": {
        "id": "x3-VcN-NLlSl"
      },
      "execution_count": null,
      "outputs": []
    },
    {
      "cell_type": "code",
      "source": [
        "#generate class.names\n",
        "with open(f'{OUTPUT_TRAINING_FILES_FOLDER}/class.names', \"w\", encoding='utf-8') as file:\n",
        "    file.write('\\n'.join(CLASSES) + '\\n')"
      ],
      "metadata": {
        "id": "Ut7DkHcZLECI"
      },
      "execution_count": null,
      "outputs": []
    },
    {
      "cell_type": "code",
      "source": [
        "#remove images without annotations\n",
        "for file in os.listdir(INPUT_ANNOTATED_IMAGES_FOLDER):\n",
        "  if file.endswith('.jpg') and not os.path.exists(f'{INPUT_ANNOTATED_IMAGES_FOLDER}/{os.path.splitext(file)[0]}.txt'):\n",
        "    print(f'[Warning] It doesn\\'t exist annotation file for image {file} and it will be removed!')\n",
        "    os.remove(f'{INPUT_ANNOTATED_IMAGES_FOLDER}/{file}')"
      ],
      "metadata": {
        "id": "mV6biuGjRttB"
      },
      "execution_count": null,
      "outputs": []
    },
    {
      "cell_type": "code",
      "source": [
        "#generate train.txt and test.txt files\n",
        "\n",
        "files = []\n",
        "\n",
        "for file in os.listdir(INPUT_ANNOTATED_IMAGES_FOLDER):\n",
        "  if file.endswith('.jpg'):\n",
        "    files.append(file)\n",
        "    \n",
        "random.shuffle(files)\n",
        "\n",
        "train_files = files[0:math.ceil(len(files)*DATA_TRAIN_PERCENTAGE)]\n",
        "test_files = files[len(train_files):]\n",
        "\n",
        "with open(f'{OUTPUT_TRAINING_FILES_FOLDER}/train.txt', 'w', encoding='utf-8') as train_txt:\n",
        "  for file in train_files:\n",
        "    train_txt.write(f'{PREFIX_DATA_FOLDER_FOR_DARKNET}/{file}\\n')\n",
        "\n",
        "with open(f'{OUTPUT_TRAINING_FILES_FOLDER}/test.txt', 'w', encoding='utf-8') as test_txt:\n",
        "  for file in test_files:\n",
        "    test_txt.write(f'{PREFIX_DATA_FOLDER_FOR_DARKNET}/{file}\\n')"
      ],
      "metadata": {
        "id": "pFjt4dyAJae6"
      },
      "execution_count": null,
      "outputs": []
    },
    {
      "cell_type": "code",
      "source": [
        "#generate labelled_data.data\n",
        "with open(f'{OUTPUT_TRAINING_FILES_FOLDER}/labelled_data.data', 'w') as data:\n",
        "  data.write('classes = ' + str(len(CLASSES)) + '\\n')\n",
        "  data.write('train = ' + PREFIX_DATA_FOLDER_FOR_DARKNET + '/' + 'train.txt' + '\\n')\n",
        "  data.write('valid = ' + PREFIX_DATA_FOLDER_FOR_DARKNET + '/' + 'test.txt' + '\\n')\n",
        "  data.write('names = ' + PREFIX_DATA_FOLDER_FOR_DARKNET + '/' + 'classes.names' + '\\n')\n",
        "  data.write('backup = ' + PREFIX_WEIGHTS_FOLDER_FOR_DARKNET)"
      ],
      "metadata": {
        "id": "OvWEh8zFXr-k"
      },
      "execution_count": null,
      "outputs": []
    },
    {
      "cell_type": "code",
      "source": [
        "#statistics\n",
        "print(f'Number of train images: {len(train_files)}')\n",
        "print(f'Number of test images: {len(test_files)}')\n",
        "\n",
        "annotations = 0\n",
        "\n",
        "for file in train_files:\n",
        "  txt_file = f'{INPUT_ANNOTATED_IMAGES_FOLDER}/{os.path.splitext(file)[0]}.txt';\n",
        "  annotations += sum(1 for line in open(txt_file))\n",
        "\n",
        "print(f'Number of annotations: {annotations}')"
      ],
      "metadata": {
        "id": "JYGeXm7Tc7d2"
      },
      "execution_count": null,
      "outputs": []
    },
    {
      "cell_type": "code",
      "source": [
        "#pack all and upload in Google Drive\n",
        "DRIVE_MOUNT_FOLDER = 'drive'\n",
        "DRIVE_UPLOAD_FOLDER = 'MyDrive/rc_car_tracking/yolo_dataset'\n",
        "\n",
        "if IN_COLAB:\n",
        "  from google.colab import drive\n",
        "  drive.mount(DRIVE_MOUNT_FOLDER, force_remount=True)\n",
        "  googe_drive_folder = os.path.join(DRIVE_MOUNT_FOLDER, DRIVE_UPLOAD_FOLDER)\n",
        "  os.makedirs(googe_drive_folder, exist_ok=True)\n",
        "  for file in os.listdir(INPUT_ANNOTATED_IMAGES_FOLDER):\n",
        "    shutil.copy(os.path.join(INPUT_ANNOTATED_IMAGES_FOLDER, file), googe_drive_folder)\n",
        "  for file in os.listdir(OUTPUT_TRAINING_FILES_FOLDER):\n",
        "    shutil.copy(os.path.join(OUTPUT_TRAINING_FILES_FOLDER, file), googe_drive_folder)\n",
        "  drive.flush_and_unmount()"
      ],
      "metadata": {
        "id": "ut1mQWC4Z5BK"
      },
      "execution_count": null,
      "outputs": []
    }
  ]
}