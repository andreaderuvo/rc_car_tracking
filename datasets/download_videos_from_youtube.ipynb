{
  "nbformat": 4,
  "nbformat_minor": 0,
  "metadata": {
    "colab": {
      "name": "download_videos_from_youtube.ipynb",
      "provenance": [],
      "collapsed_sections": [],
      "authorship_tag": "ABX9TyM/J2qEHU9w7aJ1p+7Nd1Uz",
      "include_colab_link": true
    },
    "kernelspec": {
      "name": "python3",
      "display_name": "Python 3"
    },
    "language_info": {
      "name": "python"
    }
  },
  "cells": [
    {
      "cell_type": "markdown",
      "metadata": {
        "id": "view-in-github",
        "colab_type": "text"
      },
      "source": [
        "<a href=\"https://colab.research.google.com/github/andreaderuvo/rc_car_tracking/blob/main/datasets/download_videos_from_youtube.ipynb\" target=\"_parent\"><img src=\"https://colab.research.google.com/assets/colab-badge.svg\" alt=\"Open In Colab\"/></a>"
      ]
    },
    {
      "cell_type": "code",
      "source": [
        "!pip install pytube==12.1.0"
      ],
      "metadata": {
        "id": "HCBPJ56svWO6"
      },
      "execution_count": null,
      "outputs": []
    },
    {
      "cell_type": "code",
      "execution_count": 5,
      "metadata": {
        "id": "hOnNZCP_vPMa"
      },
      "outputs": [],
      "source": [
        "from pytube import YouTube\n",
        "import os"
      ]
    },
    {
      "cell_type": "code",
      "source": [
        "#config\n",
        "OUTPUT_FOLDER = '/content/videos'"
      ],
      "metadata": {
        "id": "IHf0gVYe60PV"
      },
      "execution_count": 1,
      "outputs": []
    },
    {
      "cell_type": "code",
      "source": [
        "#create folder if not exists and empty folder\n",
        "os.makedirs(OUTPUT_FOLDER, exist_ok=True)\n",
        "\n",
        "for filename in os.listdir(OUTPUT_FOLDER):\n",
        "   os.remove(os.path.join(OUTPUT_FOLDER, filename))"
      ],
      "metadata": {
        "id": "CF17yMSi66kX"
      },
      "execution_count": 7,
      "outputs": []
    },
    {
      "cell_type": "code",
      "source": [
        "#download videos from YouTube at maximum resolution\n",
        "video_links = [\n",
        "  \"https://www.youtube.com/watch?v=CwfQ-c7if90\",\n",
        "  \"https://www.youtube.com/watch?v=gXZeDXmwSQU\",\n",
        "  \"https://www.youtube.com/watch?v=J1DoMRO0ShY\"\n",
        "]\n",
        "\n",
        "for i,video_link in enumerate(video_links):\n",
        "  print(f\"Downloading video {i+1} of {len(video_links)}...\")\n",
        "  yt = YouTube(video_link)\n",
        "  yt.streams.filter(file_extension='mp4').order_by('resolution')[-1].download(OUTPUT_FOLDER)\n",
        "\n",
        "print('Job done!')"
      ],
      "metadata": {
        "id": "IcNTIadnvinr"
      },
      "execution_count": null,
      "outputs": []
    },
    {
      "cell_type": "code",
      "source": [
        "#check if the execution environment is Google Colab\n",
        "try:\n",
        "  import google.colab\n",
        "  IN_COLAB = True\n",
        "except:\n",
        "  IN_COLAB = False"
      ],
      "metadata": {
        "id": "esd6H6a6c1R_"
      },
      "execution_count": 9,
      "outputs": []
    },
    {
      "cell_type": "code",
      "source": [
        "#download locally videos from Google Colab\n",
        "if IN_COLAB:\n",
        "  from google.colab import files\n",
        "  for filename in os.listdir(OUTPUT_FOLDER):\n",
        "    files.download(os.path.join(OUTPUT_FOLDER,filename))"
      ],
      "metadata": {
        "id": "jE5jC_zM8NNt"
      },
      "execution_count": null,
      "outputs": []
    },
    {
      "cell_type": "code",
      "source": [
        "#upload videos in Google Drive\n",
        "DRIVE_MOUNT_FOLDER = '/content/drive'\n",
        "DRIVE_UPLOAD_FOLDER = 'MyDrive/rc_car_traking/videos'\n",
        "\n",
        "if IN_COLAB:\n",
        "  from google.colab import drive\n",
        "  import shutil\n",
        "  drive.mount(DRIVE_MOUNT_FOLDER, force_remount=True)\n",
        "  os.makedirs(os.path.join(DRIVE_MOUNT_FOLDER, DRIVE_UPLOAD_FOLDER), exist_ok=True)\n",
        "  for file in os.listdir(OUTPUT_FOLDER):\n",
        "    shutil.copy(os.path.join(OUTPUT_FOLDER, file), os.path.join(DRIVE_MOUNT_FOLDER, DRIVE_UPLOAD_FOLDER))\n",
        "  drive.flush_and_unmount()"
      ],
      "metadata": {
        "id": "bS5dUyikcwnr"
      },
      "execution_count": null,
      "outputs": []
    }
  ]
}