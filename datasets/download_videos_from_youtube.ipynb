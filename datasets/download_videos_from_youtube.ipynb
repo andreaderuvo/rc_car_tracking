{
  "nbformat": 4,
  "nbformat_minor": 0,
  "metadata": {
    "colab": {
      "name": "download_videos_from_youtube.ipynb",
      "provenance": [],
      "collapsed_sections": [],
      "background_execution": "on",
      "authorship_tag": "ABX9TyMW0xqnd82/sufDE0wiigtS",
      "include_colab_link": true
    },
    "kernelspec": {
      "name": "python3",
      "display_name": "Python 3"
    },
    "language_info": {
      "name": "python"
    },
    "accelerator": "GPU",
    "gpuClass": "standard"
  },
  "cells": [
    {
      "cell_type": "markdown",
      "metadata": {
        "id": "view-in-github",
        "colab_type": "text"
      },
      "source": [
        "<a href=\"https://colab.research.google.com/github/andreaderuvo/rc_car_tracking/blob/main/datasets/download_videos_from_youtube.ipynb\" target=\"_parent\"><img src=\"https://colab.research.google.com/assets/colab-badge.svg\" alt=\"Open In Colab\"/></a>"
      ]
    },
    {
      "cell_type": "code",
      "source": [
        "!pip install pytube==12.1.0"
      ],
      "metadata": {
        "id": "HCBPJ56svWO6"
      },
      "execution_count": null,
      "outputs": []
    },
    {
      "cell_type": "code",
      "execution_count": null,
      "metadata": {
        "id": "hOnNZCP_vPMa"
      },
      "outputs": [],
      "source": [
        "from pytube import YouTube\n",
        "import os\n",
        "import shutil"
      ]
    },
    {
      "cell_type": "code",
      "source": [
        "#config\n",
        "OUTPUT_VIDEOS_FOLDER = 'videos'"
      ],
      "metadata": {
        "id": "IHf0gVYe60PV"
      },
      "execution_count": null,
      "outputs": []
    },
    {
      "cell_type": "code",
      "source": [
        "#remove and create OUTPUT_VIDEOS_FOLDER folder\n",
        "shutil.rmtree(OUTPUT_VIDEOS_FOLDER, ignore_errors=True)\n",
        "os.makedirs(OUTPUT_VIDEOS_FOLDER, exist_ok=True)"
      ],
      "metadata": {
        "id": "KpqNBwWVH4v-"
      },
      "execution_count": null,
      "outputs": []
    },
    {
      "cell_type": "code",
      "source": [
        "#download videos from YouTube at maximum resolution\n",
        "video_links = [\n",
        "  \"https://www.youtube.com/watch?v=CwfQ-c7if90\", #train\n",
        "  \"https://www.youtube.com/watch?v=gXZeDXmwSQU\", #train (to ffmpeg)\n",
        "  \"https://www.youtube.com/watch?v=J1DoMRO0ShY\", #train\n",
        "  \"https://www.youtube.com/watch?v=s64_GIoMEmg \" #test\n",
        "]\n",
        "\n",
        "for i,video_link in enumerate(video_links):\n",
        "  print(f\"Downloading video {i+1} of {len(video_links)}...\")\n",
        "  yt = YouTube(video_link)\n",
        "  yt.streams.filter(file_extension='mp4').order_by('resolution')[-1].download(OUTPUT_VIDEOS_FOLDER, f'{i}_{\"train\" if i < (len(video_links) - 1) else \"test\"}.mp4')\n",
        "\n",
        "print('Job done!')"
      ],
      "metadata": {
        "id": "IcNTIadnvinr"
      },
      "execution_count": null,
      "outputs": []
    },
    {
      "cell_type": "code",
      "source": [
        "#optional (tested on Google Colab)\n",
        "#ffmpeg to convert video '2018 IFMAR ISTC World Championships - A-main Leg 1.mp4' from AV1 to mp4 codec\n",
        "!git clone https://github.com/XniceCraft/ffmpeg-colab.git\n",
        "!chmod 755 ./ffmpeg-colab/install\n",
        "!./ffmpeg-colab/install\n",
        "!rm -rf ./ffmpeg-colab/\n",
        "!ffmpeg -version\n",
        "!ffmpeg -y -i 'videos/1_train.mp4' 'videos/converted.mp4'\n",
        "!rm 'videos/1_train.mp4'\n",
        "!mv 'videos/converted.mp4' 'videos/1_train.mp4'"
      ],
      "metadata": {
        "id": "2p09bbS7AfhC"
      },
      "execution_count": null,
      "outputs": []
    },
    {
      "cell_type": "code",
      "source": [
        "#check if the execution environment is Google Colab\n",
        "try:\n",
        "  import google.colab\n",
        "  IN_COLAB = True\n",
        "except:\n",
        "  IN_COLAB = False"
      ],
      "metadata": {
        "id": "esd6H6a6c1R_"
      },
      "execution_count": null,
      "outputs": []
    },
    {
      "cell_type": "code",
      "source": [
        "#download locally videos from Google Colab\n",
        "if IN_COLAB:\n",
        "  from google.colab import files\n",
        "  for filename in os.listdir(OUTPUT_VIDEOS_FOLDER):\n",
        "    files.download(os.path.join(OUTPUT_VIDEOS_FOLDER,filename))"
      ],
      "metadata": {
        "id": "jE5jC_zM8NNt"
      },
      "execution_count": null,
      "outputs": []
    },
    {
      "cell_type": "code",
      "source": [
        "#upload videos in Google Drive\n",
        "DRIVE_MOUNT_FOLDER = 'drive'\n",
        "DRIVE_UPLOAD_FOLDER = 'MyDrive/rc_car_tracking/videos'\n",
        "\n",
        "if IN_COLAB:\n",
        "  from google.colab import drive\n",
        "  import shutil\n",
        "  drive.mount(DRIVE_MOUNT_FOLDER, force_remount=True)\n",
        "  googe_drive_folder = os.path.join(DRIVE_MOUNT_FOLDER, DRIVE_UPLOAD_FOLDER)\n",
        "  os.makedirs(googe_drive_folder, exist_ok=True)\n",
        "  for file in os.listdir(OUTPUT_VIDEOS_FOLDER):\n",
        "    shutil.copy(os.path.join(OUTPUT_VIDEOS_FOLDER, file), googe_drive_folder)\n",
        "  drive.flush_and_unmount()"
      ],
      "metadata": {
        "id": "bS5dUyikcwnr"
      },
      "execution_count": null,
      "outputs": []
    }
  ]
}