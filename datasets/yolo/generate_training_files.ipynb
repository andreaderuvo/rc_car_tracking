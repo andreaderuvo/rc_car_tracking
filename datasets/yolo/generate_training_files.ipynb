{
  "cells": [
    {
      "cell_type": "markdown",
      "metadata": {
        "colab_type": "text",
        "id": "view-in-github"
      },
      "source": [
        "<a href=\"https://colab.research.google.com/github/andreaderuvo/rc_car_tracking/blob/main/datasets/generate_training_files_for_yolo.ipynb\" target=\"_parent\"><img src=\"https://colab.research.google.com/assets/colab-badge.svg\" alt=\"Open In Colab\"/></a>"
      ]
    },
    {
      "cell_type": "code",
      "execution_count": null,
      "metadata": {
        "id": "KrhRQsdmJEHv"
      },
      "outputs": [],
      "source": [
        "INPUT_ANNOTATED_IMAGES_FOLDER = 'annotated_images'\n",
        "OUTPUT_TRAINING_FILES_FOLDER = 'training_files'\n",
        "CLASSES = ['rc_car']\n",
        "DATA_TRAIN_PERCENTAGE = 0.8\n",
        "PREFIX_DATA_FOLDER_FOR_DARKNET = 'data'\n",
        "PREFIX_WEIGHTS_FOLDER_FOR_DARKNET = 'weights'"
      ]
    },
    {
      "cell_type": "code",
      "execution_count": null,
      "metadata": {
        "id": "_88FVE-jMGvP"
      },
      "outputs": [],
      "source": [
        "import os\n",
        "import random\n",
        "import math\n",
        "import shutil"
      ]
    },
    {
      "cell_type": "code",
      "execution_count": null,
      "metadata": {
        "id": "SZkClypcMiUY"
      },
      "outputs": [],
      "source": [
        "#delete and create folder INPUT_ANNOTATED_IMAGES_FOLDER and OUTPUT_TRAINING_FILES_FOLDER\n",
        "shutil.rmtree(INPUT_ANNOTATED_IMAGES_FOLDER, ignore_errors=True)\n",
        "shutil.rmtree(OUTPUT_TRAINING_FILES_FOLDER, ignore_errors=True)\n",
        "os.makedirs(INPUT_ANNOTATED_IMAGES_FOLDER, exist_ok=True)\n",
        "os.makedirs(OUTPUT_TRAINING_FILES_FOLDER, exist_ok=True)"
      ]
    },
    {
      "cell_type": "code",
      "execution_count": null,
      "metadata": {
        "id": "7ZrQMJTeJXdE"
      },
      "outputs": [],
      "source": [
        "#check if the execution environment is Google Colab\n",
        "try:\n",
        "  import google.colab\n",
        "  IN_COLAB = True\n",
        "except:\n",
        "  IN_COLAB = False"
      ]
    },
    {
      "cell_type": "code",
      "execution_count": null,
      "metadata": {
        "id": "x3-VcN-NLlSl"
      },
      "outputs": [],
      "source": [
        "#importing annotated images from Google Drive\n",
        "DRIVE_MOUNT_FOLDER = 'drive'\n",
        "DRIVE_ANNOTATED_IMAGES_FOLDER = 'MyDrive/rc_car_tracking/annotated_images'\n",
        "\n",
        "if IN_COLAB:\n",
        "  from google.colab import drive\n",
        "  drive.mount(DRIVE_MOUNT_FOLDER, force_remount=True)\n",
        "  annotated_images_folder = os.path.join(DRIVE_MOUNT_FOLDER, DRIVE_ANNOTATED_IMAGES_FOLDER)\n",
        "  for file in os.listdir(annotated_images_folder):\n",
        "    shutil.copy(os.path.join(annotated_images_folder, file), INPUT_ANNOTATED_IMAGES_FOLDER)\n",
        "  drive.flush_and_unmount()  "
      ]
    },
    {
      "cell_type": "code",
      "execution_count": null,
      "metadata": {
        "id": "Ut7DkHcZLECI"
      },
      "outputs": [],
      "source": [
        "#generate class.names\n",
        "with open(f'{OUTPUT_TRAINING_FILES_FOLDER}/class.names', \"w\", encoding='utf-8') as file:\n",
        "    file.write('\\n'.join(CLASSES) + '\\n')"
      ]
    },
    {
      "cell_type": "code",
      "execution_count": null,
      "metadata": {
        "id": "mV6biuGjRttB"
      },
      "outputs": [],
      "source": [
        "#remove images without annotations\n",
        "for file in os.listdir(INPUT_ANNOTATED_IMAGES_FOLDER):\n",
        "  if file.endswith('.jpg') and not os.path.exists(f'{INPUT_ANNOTATED_IMAGES_FOLDER}/{os.path.splitext(file)[0]}.txt'):\n",
        "    print(f'[Warning] It doesn\\'t exist annotation file for image {file} and it will be removed!')\n",
        "    os.remove(f'{INPUT_ANNOTATED_IMAGES_FOLDER}/{file}')"
      ]
    },
    {
      "cell_type": "code",
      "execution_count": null,
      "metadata": {
        "id": "pFjt4dyAJae6"
      },
      "outputs": [],
      "source": [
        "#generate train.txt and test.txt files\n",
        "\n",
        "files = []\n",
        "\n",
        "for file in os.listdir(INPUT_ANNOTATED_IMAGES_FOLDER):\n",
        "  if file.endswith('.jpg'):\n",
        "    files.append(file)\n",
        "    \n",
        "random.shuffle(files)\n",
        "\n",
        "train_files = files[0:math.ceil(len(files)*DATA_TRAIN_PERCENTAGE)]\n",
        "test_files = files[len(train_files):]\n",
        "\n",
        "with open(f'{OUTPUT_TRAINING_FILES_FOLDER}/train.txt', 'w', encoding='utf-8') as train_txt:\n",
        "  for file in train_files:\n",
        "    train_txt.write(f'{PREFIX_DATA_FOLDER_FOR_DARKNET}/{file}\\n')\n",
        "\n",
        "with open(f'{OUTPUT_TRAINING_FILES_FOLDER}/test.txt', 'w', encoding='utf-8') as test_txt:\n",
        "  for file in test_files:\n",
        "    test_txt.write(f'{PREFIX_DATA_FOLDER_FOR_DARKNET}/{file}\\n')"
      ]
    },
    {
      "cell_type": "code",
      "execution_count": null,
      "metadata": {
        "id": "OvWEh8zFXr-k"
      },
      "outputs": [],
      "source": [
        "#generate labelled_data.data\n",
        "with open(f'{OUTPUT_TRAINING_FILES_FOLDER}/labelled_data.data', 'w') as data:\n",
        "  data.write('classes = ' + str(len(CLASSES)) + '\\n')\n",
        "  data.write('train = ' + PREFIX_DATA_FOLDER_FOR_DARKNET + '/' + 'train.txt' + '\\n')\n",
        "  data.write('valid = ' + PREFIX_DATA_FOLDER_FOR_DARKNET + '/' + 'test.txt' + '\\n')\n",
        "  data.write('names = ' + PREFIX_DATA_FOLDER_FOR_DARKNET + '/' + 'classes.names' + '\\n')\n",
        "  data.write('backup = ' + PREFIX_WEIGHTS_FOLDER_FOR_DARKNET)"
      ]
    },
    {
      "cell_type": "code",
      "execution_count": null,
      "metadata": {
        "id": "JYGeXm7Tc7d2"
      },
      "outputs": [],
      "source": [
        "#statistics\n",
        "print(f'Number of train images: {len(train_files)}')\n",
        "print(f'Number of test images: {len(test_files)}')\n",
        "\n",
        "annotations = 0\n",
        "\n",
        "for file in train_files:\n",
        "  txt_file = f'{INPUT_ANNOTATED_IMAGES_FOLDER}/{os.path.splitext(file)[0]}.txt';\n",
        "  annotations += sum(1 for line in open(txt_file))\n",
        "\n",
        "print(f'Number of annotations: {annotations}')"
      ]
    },
    {
      "cell_type": "code",
      "execution_count": null,
      "metadata": {
        "id": "ut1mQWC4Z5BK"
      },
      "outputs": [],
      "source": [
        "#pack all and upload in Google Drive\n",
        "DRIVE_MOUNT_FOLDER = 'drive'\n",
        "DRIVE_UPLOAD_FOLDER = 'MyDrive/rc_car_tracking/yolo_dataset'\n",
        "\n",
        "if IN_COLAB:\n",
        "  from google.colab import drive\n",
        "  drive.mount(DRIVE_MOUNT_FOLDER, force_remount=True)\n",
        "  googe_drive_folder = os.path.join(DRIVE_MOUNT_FOLDER, DRIVE_UPLOAD_FOLDER)\n",
        "  os.makedirs(googe_drive_folder, exist_ok=True)\n",
        "  for file in os.listdir(INPUT_ANNOTATED_IMAGES_FOLDER):\n",
        "    shutil.copy(os.path.join(INPUT_ANNOTATED_IMAGES_FOLDER, file), googe_drive_folder)\n",
        "  for file in os.listdir(OUTPUT_TRAINING_FILES_FOLDER):\n",
        "    shutil.copy(os.path.join(OUTPUT_TRAINING_FILES_FOLDER, file), googe_drive_folder)\n",
        "  drive.flush_and_unmount()"
      ]
    }
  ],
  "metadata": {
    "colab": {
      "authorship_tag": "ABX9TyNVUbjDg23wK5NOlYP+ix8H",
      "collapsed_sections": [],
      "include_colab_link": true,
      "name": "generate_training_files_for_yolo.ipynb",
      "provenance": []
    },
    "kernelspec": {
      "display_name": "Python 3.9.1 64-bit",
      "language": "python",
      "name": "python3"
    },
    "language_info": {
      "name": "python",
      "version": "3.9.1"
    },
    "vscode": {
      "interpreter": {
        "hash": "4d2c2327690efbd62e0c9823428fa445b2fb56d5b288cd8c3e160d623e45e869"
      }
    }
  },
  "nbformat": 4,
  "nbformat_minor": 0
}
