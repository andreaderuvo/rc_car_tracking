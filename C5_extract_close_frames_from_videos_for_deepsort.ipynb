{
  "nbformat": 4,
  "nbformat_minor": 0,
  "metadata": {
    "colab": {
      "name": "extract_close_frames_from_videos_for_deepsort.ipynb",
      "provenance": [],
      "collapsed_sections": [],
      "authorship_tag": "ABX9TyNX4jMyAFZJx1QFvQ7ttJ0v",
      "include_colab_link": true
    },
    "kernelspec": {
      "name": "python3",
      "display_name": "Python 3"
    },
    "language_info": {
      "name": "python"
    }
  },
  "cells": [
    {
      "cell_type": "markdown",
      "metadata": {
        "id": "view-in-github",
        "colab_type": "text"
      },
      "source": [
        "<a href=\"https://colab.research.google.com/github/andreaderuvo/rc_car_tracking/blob/main/C5_extract_close_frames_from_videos_for_deepsort.ipynb\" target=\"_parent\"><img src=\"https://colab.research.google.com/assets/colab-badge.svg\" alt=\"Open In Colab\"/></a>"
      ]
    },
    {
      "cell_type": "code",
      "execution_count": null,
      "metadata": {
        "id": "ujYvVdqpBBUh"
      },
      "outputs": [],
      "source": [
        "#config\n",
        "PROJECT = 'rc_car_tracking'\n",
        "MODEL = 'deepsort'\n",
        "\n",
        "COLAB_BASE_PROJECT = f'/content/{PROJECT}'\n",
        "\n",
        "DRIVE_MOUNT_FOLDER = 'drive'\n",
        "DRIVE_BASE_PROJECT = f'{DRIVE_MOUNT_FOLDER}/MyDrive/{PROJECT}'\n",
        "DRIVE_VIDEOS_FOLDER = 'videos'\n",
        "DRIVE_IMAGES_FOLDER = f'{MODEL}_images'\n",
        "\n",
        "# Interval of frames considered in percentages (0 -> 0%, 1->100%)\n",
        "RANDOMNESS = False\n",
        "MAX_NUMBER_OF_FRAMES_PER_VIDEO = 100\n",
        "INTERVAL_FRAMES = (0.2,0.8)\n",
        "SKIP_FRAMES = 40"
      ]
    },
    {
      "cell_type": "code",
      "source": [
        "#imports\n",
        "import cv2\n",
        "import os, datetime\n",
        "import random\n",
        "from os import listdir\n",
        "import shutil\n",
        "import time\n",
        "from google.colab import drive"
      ],
      "metadata": {
        "id": "z5glfHVZBCI6"
      },
      "execution_count": null,
      "outputs": []
    },
    {
      "cell_type": "code",
      "source": [
        "#google drive\n",
        "drive.mount(DRIVE_MOUNT_FOLDER, force_remount=True)"
      ],
      "metadata": {
        "id": "OpVpgFUgmJMp"
      },
      "execution_count": null,
      "outputs": []
    },
    {
      "cell_type": "code",
      "source": [
        "#symbolic link\n",
        "!ln -s $DRIVE_BASE_PROJECT $COLAB_BASE_PROJECT"
      ],
      "metadata": {
        "id": "ffOzf8LXmEGQ"
      },
      "execution_count": null,
      "outputs": []
    },
    {
      "cell_type": "code",
      "source": [
        "# init DRIVE_IMAGES_FOLDER\n",
        "shutil.rmtree(f'{COLAB_BASE_PROJECT}/{DRIVE_IMAGES_FOLDER}', ignore_errors=True)\n",
        "os.makedirs(f'{COLAB_BASE_PROJECT}/{DRIVE_IMAGES_FOLDER}', exist_ok=True)"
      ],
      "metadata": {
        "id": "K3ycxq4bBHOH"
      },
      "execution_count": null,
      "outputs": []
    },
    {
      "cell_type": "code",
      "source": [
        "# Extract random images in OUTPUT_IMAGES_FOLDER from each video in INPUT_VIDEOS_FOLDER\n",
        "videos = os.listdir(f'{COLAB_BASE_PROJECT}/{DRIVE_VIDEOS_FOLDER}')\n",
        "\n",
        "for i,video in enumerate(videos):\n",
        "  \n",
        "  if not video.endswith(\".mp4\"):\n",
        "    continue;\n",
        "\n",
        "  cap = cv2.VideoCapture(f'{COLAB_BASE_PROJECT}/{DRIVE_VIDEOS_FOLDER}/{video}')\n",
        "\n",
        "  if not cap.isOpened(): \n",
        "    print(f'Could not open video {video}, {i+1}/{len(videos)}')\n",
        "    break;\n",
        "\n",
        "  length = int(cap.get(cv2.CAP_PROP_FRAME_COUNT))\n",
        "  deck = list(range(int(length * INTERVAL_FRAMES[0]), int(length * INTERVAL_FRAMES[1]), SKIP_FRAMES))\n",
        "\n",
        "  print(f'Processing video {video} with total {length} frames and {len(deck)} frames selected, {i+1}/{len(videos)}')\n",
        "\n",
        "  if len(deck) < MAX_NUMBER_OF_FRAMES_PER_VIDEO:\n",
        "    print(f'\\nVideo {video} does not contain enough frames ({length} total frames, {len(deck)} selected frames) to extract in according to MAX_NUMBER_OF_FRAMES_PER_VIDEO ({MAX_NUMBER_OF_FRAMES_PER_VIDEO}) set')\n",
        "    break;\n",
        "\n",
        "  if RANDOMNESS:\n",
        "    random.shuffle(deck)\n",
        "\n",
        "  num_image = 0      \n",
        "  counter = 0\n",
        "  video_index = video.split('_')[0]\n",
        "\n",
        "  while num_image < MAX_NUMBER_OF_FRAMES_PER_VIDEO:\n",
        "    num_frame = deck.pop(0)\n",
        "    cap.set(cv2.CAP_PROP_POS_FRAMES, num_frame - 1)\n",
        "    success, image = cap.read()\n",
        "    if success:\n",
        "      file_name = f'{video_index}_{num_frame}.jpg'\n",
        "      path = os.path.join(f'{COLAB_BASE_PROJECT}/{DRIVE_IMAGES_FOLDER}', file_name)\n",
        "\n",
        "      cv2.imwrite(path, image)\n",
        "      print(f\"\\rExtracting random frame {counter + 1} of {MAX_NUMBER_OF_FRAMES_PER_VIDEO}\", end='', flush=True) \n",
        "      num_image += 1\n",
        "      counter += 1\n",
        "    else:\n",
        "      print(f'Error in reading frame {num_frame}...')\n",
        "\n",
        "  print('\\n')"
      ],
      "metadata": {
        "id": "z_yKO7zdBM-S"
      },
      "execution_count": null,
      "outputs": []
    }
  ]
}