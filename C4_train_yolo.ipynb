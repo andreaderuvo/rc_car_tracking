{
  "cells": [
    {
      "cell_type": "markdown",
      "metadata": {
        "id": "view-in-github",
        "colab_type": "text"
      },
      "source": [
        "<a href=\"https://colab.research.google.com/github/andreaderuvo/rc_car_tracking/blob/main/C4_train_yolo.ipynb\" target=\"_parent\"><img src=\"https://colab.research.google.com/assets/colab-badge.svg\" alt=\"Open In Colab\"/></a>"
      ]
    },
    {
      "cell_type": "code",
      "execution_count": null,
      "metadata": {
        "id": "9nwYmKBKqMld"
      },
      "outputs": [],
      "source": [
        "#imports\n",
        "import os\n",
        "import shutil\n",
        "import urllib.request\n",
        "import time"
      ]
    },
    {
      "cell_type": "code",
      "execution_count": null,
      "metadata": {
        "id": "aDBaRkkbgGoR"
      },
      "outputs": [],
      "source": [
        "#configuration\n",
        "PROJECT = 'rc_car_tracking'\n",
        "MODEL = 'yolo'\n",
        "\n",
        "COLAB_BASE_PROJECT = f'/content/{PROJECT}'\n",
        "\n",
        "\n",
        "DRIVE_MOUNT_FOLDER = '/content/drive'\n",
        "DRIVE_BASE_PROJECT = f'{DRIVE_MOUNT_FOLDER}/MyDrive/{PROJECT}'\n",
        "DRIVE_DATASET_FOLDER = f'{COLAB_BASE_PROJECT}/{MODEL}_dataset'\n",
        "DRIVE_TRAINED_WEIGHTS_FOLDER = f'{COLAB_BASE_PROJECT}/{MODEL}_trained_weights'\n",
        "DRIVE_TRAINING_FILES_FOLDER = f'{COLAB_BASE_PROJECT}/{MODEL}_training_files'\n",
        "\n",
        "YOLO_TRAINED_WEIGHTS_FOLDER = f'{COLAB_BASE_PROJECT}/{MODEL}_trained_weights_{round(time.time() * 1000)}'\n",
        "\n",
        "DARKNET_PRE_TRAINED_WEIGHTS_FOLDER = '/content/darknet_overrides'\n",
        "DARKNET_PRE_TRAINED_WEIGHTS_URL = 'https://pjreddie.com/media/files/darknet53.conv.74'\n",
        "DARKNET_CUSTOM_CFG_FILE_URL = 'https://raw.githubusercontent.com/andreaderuvo/rc_car_tracking/main/darknet/cfg/yolov3_train.cfg'\n",
        "DARKNET_CUSTOM_MAKEFILE_URL = 'https://raw.githubusercontent.com/andreaderuvo/rc_car_tracking/main/darknet/Makefile'\n",
        "\n",
        "DARKNET_GITHUB = 'https://github.com/AlexeyAB/darknet.git'"
      ]
    },
    {
      "cell_type": "code",
      "source": [
        "#mount Google Drive\n",
        "from google.colab import drive\n",
        "drive.mount(DRIVE_MOUNT_FOLDER, force_remount=True)\n",
        "!ln -s $DRIVE_BASE_PROJECT $COLAB_BASE_PROJECT"
      ],
      "metadata": {
        "id": "yA28pYZ0v_JG"
      },
      "execution_count": null,
      "outputs": []
    },
    {
      "cell_type": "code",
      "execution_count": null,
      "metadata": {
        "id": "C8CLe3UrsKED"
      },
      "outputs": [],
      "source": [
        "#download darknet53.conv.74: initial yolo weights for training custom data\n",
        "os.makedirs(DARKNET_PRE_TRAINED_WEIGHTS_FOLDER, exist_ok=True)\n",
        "urllib.request.urlretrieve(DARKNET_PRE_TRAINED_WEIGHTS_URL, os.path.join(DARKNET_PRE_TRAINED_WEIGHTS_FOLDER, 'darknet53.conv.74'))"
      ]
    },
    {
      "cell_type": "code",
      "execution_count": null,
      "metadata": {
        "id": "2rgjq9YrcIl_"
      },
      "outputs": [],
      "source": [
        "#download custom yolo configuration file\n",
        "urllib.request.urlretrieve(DARKNET_CUSTOM_CFG_FILE_URL, os.path.join(DARKNET_PRE_TRAINED_WEIGHTS_FOLDER, 'yolov3_train.cfg'))"
      ]
    },
    {
      "cell_type": "code",
      "execution_count": null,
      "metadata": {
        "id": "mLSDASXCgReX"
      },
      "outputs": [],
      "source": [
        "#download and compile darknet enabling GPU mode\n",
        "shutil.rmtree('darknet', ignore_errors=True)\n",
        "!git clone $DARKNET_GITHUB\n",
        "%cd darknet\n",
        "!rm Makefile\n",
        "!wget $DARKNET_CUSTOM_MAKEFILE_URL\n",
        "!make\n",
        "!chmod +x darknet\n",
        "%cd .."
      ]
    },
    {
      "cell_type": "code",
      "execution_count": null,
      "metadata": {
        "id": "4zKyFNpUiLFt"
      },
      "outputs": [],
      "source": [
        "#copy training files into dataset folder\n",
        "!cp -a $DRIVE_TRAINING_FILES_FOLDER/. $DRIVE_DATASET_FOLDER\n",
        "\n",
        "with open(f'{DRIVE_DATASET_FOLDER}/labelled_data.data', 'a') as data:\n",
        "  data.write('backup = ' + YOLO_TRAINED_WEIGHTS_FOLDER)"
      ]
    },
    {
      "cell_type": "code",
      "source": [
        "#train\n",
        "!darknet/darknet detector train $DRIVE_DATASET_FOLDER/labelled_data.data $DARKNET_PRE_TRAINED_WEIGHTS_FOLDER/yolov3_train.cfg $DARKNET_PRE_TRAINED_WEIGHTS_FOLDER/darknet53.conv.74 -clear -dont_show -map"
      ],
      "metadata": {
        "id": "oKiyVuNIw9mb"
      },
      "execution_count": null,
      "outputs": []
    },
    {
      "cell_type": "code",
      "source": [
        "# Clean environment\n",
        "!mv chart.png $YOLO_TRAINED_WEIGHTS_FOLDER/chart.png\n",
        "!mv chart_yolov3.png $YOLO_TRAINED_WEIGHTS_FOLDER/chart_yolov3.png"
      ],
      "metadata": {
        "id": "YJ3NytWfjcsf"
      },
      "execution_count": null,
      "outputs": []
    }
  ],
  "metadata": {
    "accelerator": "GPU",
    "colab": {
      "background_execution": "on",
      "collapsed_sections": [],
      "name": "train_yolo.ipynb",
      "provenance": [],
      "authorship_tag": "ABX9TyMhnYKuzAQoKN1xbG9wzId8",
      "include_colab_link": true
    },
    "gpuClass": "standard",
    "kernelspec": {
      "display_name": "Python 3",
      "name": "python3"
    },
    "language_info": {
      "name": "python"
    }
  },
  "nbformat": 4,
  "nbformat_minor": 0
}