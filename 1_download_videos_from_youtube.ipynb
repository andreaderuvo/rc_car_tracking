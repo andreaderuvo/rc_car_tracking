{
  "nbformat": 4,
  "nbformat_minor": 0,
  "metadata": {
    "colab": {
      "name": "download_videos_from_youtube.ipynb",
      "provenance": [],
      "collapsed_sections": [],
      "authorship_tag": "ABX9TyOHBiX7/g2QEIwVxgEHsace",
      "include_colab_link": true
    },
    "kernelspec": {
      "name": "python3",
      "display_name": "Python 3"
    },
    "language_info": {
      "name": "python"
    },
    "gpuClass": "standard"
  },
  "cells": [
    {
      "cell_type": "markdown",
      "metadata": {
        "id": "view-in-github",
        "colab_type": "text"
      },
      "source": [
        "<a href=\"https://colab.research.google.com/github/andreaderuvo/rc_car_tracking/blob/main/1_download_videos_from_youtube.ipynb\" target=\"_parent\"><img src=\"https://colab.research.google.com/assets/colab-badge.svg\" alt=\"Open In Colab\"/></a>"
      ]
    },
    {
      "cell_type": "code",
      "source": [
        "!pip install pytube==12.1.0"
      ],
      "metadata": {
        "id": "HCBPJ56svWO6"
      },
      "execution_count": null,
      "outputs": []
    },
    {
      "cell_type": "code",
      "execution_count": null,
      "metadata": {
        "id": "hOnNZCP_vPMa"
      },
      "outputs": [],
      "source": [
        "#imports\n",
        "from pytube import YouTube\n",
        "import os\n",
        "import shutil"
      ]
    },
    {
      "cell_type": "code",
      "source": [
        "#config\n",
        "PROJECT = 'rc_car_tracking'\n",
        "COLAB_BASE_PROJECT = f'/content/{PROJECT}'\n",
        "\n",
        "DRIVE_MOUNT_FOLDER = 'drive'\n",
        "DRIVE_BASE_PROJECT = f'{DRIVE_MOUNT_FOLDER}/MyDrive/{PROJECT}'\n",
        "DRIVE_VIDEOS_FOLDER = 'videos'"
      ],
      "metadata": {
        "id": "IHf0gVYe60PV"
      },
      "execution_count": null,
      "outputs": []
    },
    {
      "cell_type": "code",
      "source": [
        "#google drive\n",
        "from google.colab import drive\n",
        "drive.mount(DRIVE_MOUNT_FOLDER, force_remount=True)"
      ],
      "metadata": {
        "id": "Wri7Y3XVgyJH"
      },
      "execution_count": null,
      "outputs": []
    },
    {
      "cell_type": "code",
      "source": [
        "#symbolic link\n",
        "!ln -s $DRIVE_BASE_PROJECT $COLAB_BASE_PROJECT"
      ],
      "metadata": {
        "id": "-noqYRHhhBkt"
      },
      "execution_count": null,
      "outputs": []
    },
    {
      "cell_type": "code",
      "source": [
        "#remove and create OUTPUT_VIDEOS_FOLDER folder\n",
        "shutil.rmtree(f'{COLAB_BASE_PROJECT}/{DRIVE_VIDEOS_FOLDER}', ignore_errors=True)\n",
        "os.makedirs(f'{COLAB_BASE_PROJECT}/{DRIVE_VIDEOS_FOLDER}', exist_ok=True)"
      ],
      "metadata": {
        "id": "KpqNBwWVH4v-"
      },
      "execution_count": null,
      "outputs": []
    },
    {
      "cell_type": "code",
      "source": [
        "#download videos from YouTube at maximum resolution\n",
        "video_links = [\n",
        "  \"https://www.youtube.com/watch?v=CwfQ-c7if90\", #train\n",
        "  \"https://www.youtube.com/watch?v=gXZeDXmwSQU\", #train (to ffmpeg)\n",
        "  \"https://www.youtube.com/watch?v=J1DoMRO0ShY\", #train\n",
        "  \"https://www.youtube.com/watch?v=s64_GIoMEmg\", #test\n",
        "  \"https://www.youtube.com/watch?v=sHYisA3dCNU\" #test\n",
        "]\n",
        "\n",
        "for i,video_link in enumerate(video_links):\n",
        "  print(f\"Downloading video {i+1} of {len(video_links)}...\")\n",
        "  yt = YouTube(video_link)\n",
        "  yt.streams.filter(file_extension='mp4').order_by('resolution')[-1].download(f'{COLAB_BASE_PROJECT}/{DRIVE_VIDEOS_FOLDER}', f'{i}_{\"train\" if i < (len(video_links) - 2) else \"test\"}.mp4')\n",
        "\n",
        "print('Job done!')"
      ],
      "metadata": {
        "id": "IcNTIadnvinr"
      },
      "execution_count": null,
      "outputs": []
    },
    {
      "cell_type": "code",
      "source": [
        "#ffmpeg to convert video '2018 IFMAR ISTC World Championships - A-main Leg 1.mp4' from AV1 to mp4 codec\n",
        "!git clone https://github.com/XniceCraft/ffmpeg-colab.git\n",
        "!chmod 755 ./ffmpeg-colab/install\n",
        "!./ffmpeg-colab/install\n",
        "!rm -rf ./ffmpeg-colab\n",
        "!ffmpeg -version\n",
        "!ffmpeg -y -i '$COLAB_BASE_PROJECT/$DRIVE_VIDEOS_FOLDER/1_train.mp4' '$COLAB_BASE_PROJECT/$DRIVE_VIDEOS_FOLDER/converted.mp4'\n",
        "!rm '$COLAB_BASE_PROJECT/$DRIVE_VIDEOS_FOLDER/1_train.mp4'\n",
        "!mv '$COLAB_BASE_PROJECT/$DRIVE_VIDEOS_FOLDER/converted.mp4' '$COLAB_BASE_PROJECT/$DRIVE_VIDEOS_FOLDER/1_train.mp4'"
      ],
      "metadata": {
        "id": "2p09bbS7AfhC"
      },
      "execution_count": null,
      "outputs": []
    },
    {
      "cell_type": "code",
      "source": [
        "#create short video portions useful for the test\n",
        "from moviepy.video.io.ffmpeg_tools import ffmpeg_extract_subclip\n",
        "\n",
        "for video in os.listdir(f'{COLAB_BASE_PROJECT}/{DRIVE_VIDEOS_FOLDER}'):\n",
        "  ffmpeg_extract_subclip(f'{COLAB_BASE_PROJECT}/{DRIVE_VIDEOS_FOLDER}/{video}', 120, 150, targetname=f'{COLAB_BASE_PROJECT}/{DRIVE_VIDEOS_FOLDER}/{os.path.splitext(video)[0]}_short.mp4')"
      ],
      "metadata": {
        "id": "qyXELLrOlmow"
      },
      "execution_count": null,
      "outputs": []
    }
  ]
}