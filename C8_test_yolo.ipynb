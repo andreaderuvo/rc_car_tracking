{
  "nbformat": 4,
  "nbformat_minor": 0,
  "metadata": {
    "colab": {
      "name": "test_yolo.ipynb",
      "provenance": [],
      "collapsed_sections": [],
      "background_execution": "on",
      "authorship_tag": "ABX9TyPHwhf+D536WzNQ8VoZ/1Lk",
      "include_colab_link": true
    },
    "kernelspec": {
      "name": "python3",
      "display_name": "Python 3"
    },
    "language_info": {
      "name": "python"
    },
    "accelerator": "GPU",
    "gpuClass": "standard"
  },
  "cells": [
    {
      "cell_type": "markdown",
      "metadata": {
        "id": "view-in-github",
        "colab_type": "text"
      },
      "source": [
        "<a href=\"https://colab.research.google.com/github/andreaderuvo/rc_car_tracking/blob/main/C8_test_yolo.ipynb\" target=\"_parent\"><img src=\"https://colab.research.google.com/assets/colab-badge.svg\" alt=\"Open In Colab\"/></a>"
      ]
    },
    {
      "cell_type": "code",
      "execution_count": null,
      "metadata": {
        "id": "5Q7xn9ktcLjL"
      },
      "outputs": [],
      "source": [
        "#settings\n",
        "PROJECT = 'rc_car_tracking'\n",
        "MODEL = 'yolo'\n",
        "\n",
        "COLAB_BASE_PROJECT = f'/content/{PROJECT}'\n",
        "DRIVE_MOUNT_FOLDER = 'drive'\n",
        "DRIVE_BASE_PROJECT = f'{DRIVE_MOUNT_FOLDER}/MyDrive/rc_car_tracking'\n",
        "DRIVE_VIDEOS_FOLDER = f'{DRIVE_BASE_PROJECT}/videos'\n",
        "DRIVE_YOLO_TRAINED_WEIGHTS_FOLDER = f'{DRIVE_BASE_PROJECT}/{MODEL}_trained_weights'\n",
        "DRIVE_YOLO_DATASET = f'{DRIVE_BASE_PROJECT}/{MODEL}_dataset'\n",
        "DRIVE_YOLO_TEST = f'{DRIVE_BASE_PROJECT}/{MODEL}_test'"
      ]
    },
    {
      "cell_type": "code",
      "source": [
        "#google drive\n",
        "from google.colab import drive\n",
        "drive.mount(DRIVE_MOUNT_FOLDER, force_remount=True)\n",
        "!ln -s $DRIVE_BASE_PROJECT $COLAB_BASE_PROJECT"
      ],
      "metadata": {
        "id": "hW2DrsUYcvDP"
      },
      "execution_count": null,
      "outputs": []
    },
    {
      "cell_type": "code",
      "source": [
        "#download and compile darknet enabling GPU mode\n",
        "!rm -rf darknet\n",
        "!git clone 'https://github.com/AlexeyAB/darknet.git'\n",
        "%cd darknet\n",
        "!rm Makefile\n",
        "!wget https://raw.githubusercontent.com/andreaderuvo/rc_car_tracking/main/darknet/Makefile\n",
        "!make\n",
        "!chmod +x darknet\n",
        "%cd .."
      ],
      "metadata": {
        "id": "QpKTBKoic8uH"
      },
      "execution_count": null,
      "outputs": []
    },
    {
      "cell_type": "code",
      "source": [
        "!wget https://raw.githubusercontent.com/andreaderuvo/rc_car_tracking/main/darknet/cfg/yolov3_test.cfg"
      ],
      "metadata": {
        "id": "wf1oVK1bgJbG"
      },
      "execution_count": null,
      "outputs": []
    },
    {
      "cell_type": "code",
      "source": [
        "!mkdir /content/predictions\n",
        "%cd darknet"
      ],
      "metadata": {
        "id": "5CaUCxA64fYd"
      },
      "execution_count": null,
      "outputs": []
    },
    {
      "cell_type": "code",
      "source": [
        "#test on single image\n",
        "!./darknet detector test /content/rc_car_tracking/yolo_dataset/labelled_data.data /content/yolov3_test.cfg /content/rc_car_tracking/yolo_trained_weights/yolov3_final.weights /content/rc_car_tracking/yolo_dataset/2_17_1651069556484.jpg -dont_show && mv predictions.jpg /content/predictions/output.jpg && rm predictions.jpg"
      ],
      "metadata": {
        "id": "gqsEx4s8dnbn"
      },
      "execution_count": null,
      "outputs": []
    },
    {
      "cell_type": "code",
      "source": [
        "#test all images\n",
        "!rm -rf /content/predictions && mkdir /content/predictions && cat /content/rc_car_tracking/yolo_dataset/test.txt | while read line; do ./darknet detector test /content/rc_car_tracking/yolo_dataset/labelled_data.data /content/yolov3_test.cfg /content/rc_car_tracking/yolo_trained_weights/yolov3_final.weights $line -dont_show && mv predictions.jpg /content/predictions/$(basename $line); done"
      ],
      "metadata": {
        "id": "tGaIP0CSvISg"
      },
      "execution_count": null,
      "outputs": []
    },
    {
      "cell_type": "code",
      "source": [
        "import os\n",
        "import shutil\n",
        "os.makedirs('rc_car_tracking/yolo_test', exist_ok=True)\n",
        "\n",
        "for file in os.listdir('/content/predictions'):\n",
        "  shutil.copy(f'/content/predictions/{file}', '/content/rc_car_tracking/yolo_test')"
      ],
      "metadata": {
        "id": "MukQKnxBxquF"
      },
      "execution_count": null,
      "outputs": []
    }
  ]
}