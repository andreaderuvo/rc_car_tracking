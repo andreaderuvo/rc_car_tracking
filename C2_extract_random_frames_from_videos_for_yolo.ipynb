{
  "nbformat": 4,
  "nbformat_minor": 0,
  "metadata": {
    "colab": {
      "name": "extract_random_frames_from_videos.ipynb",
      "provenance": [],
      "collapsed_sections": [],
      "include_colab_link": true
    },
    "kernelspec": {
      "name": "python3",
      "display_name": "Python 3"
    },
    "language_info": {
      "name": "python"
    },
    "gpuClass": "standard"
  },
  "cells": [
    {
      "cell_type": "markdown",
      "metadata": {
        "id": "view-in-github",
        "colab_type": "text"
      },
      "source": [
        "<a href=\"https://colab.research.google.com/github/andreaderuvo/rc_car_tracking/blob/main/C2_extract_random_frames_from_videos_for_yolo.ipynb\" target=\"_parent\"><img src=\"https://colab.research.google.com/assets/colab-badge.svg\" alt=\"Open In Colab\"/></a>"
      ]
    },
    {
      "cell_type": "code",
      "source": [
        "PROJECT = 'rc_car_tracking'\n",
        "MODEL = 'yolo33'\n",
        "\n",
        "COLAB_BASE_PROJECT = f'/content/{PROJECT}'\n",
        "\n",
        "MAX_NUMBER_OF_FRAMES_PER_VIDEO = 100\n",
        "\n",
        "#Google Drive settings\n",
        "DRIVE_MOUNT_FOLDER = '/content/drive'\n",
        "DRIVE_VIDEO_FOLDER = f'{DRIVE_MOUNT_FOLDER}/MyDrive/{PROJECT}/videos'\n",
        "DRIVE_IMAGES_FOLDER = f'{DRIVE_MOUNT_FOLDER}/MyDrive/{PROJECT}/{MODEL}_images'\n",
        "\n",
        "# Interval of frames considered in percentages (0 -> 0%, 1->100%)\n",
        "INTERVAL_FRAMES = (0.2,0.8)"
      ],
      "metadata": {
        "id": "l7v6RLuekbn5"
      },
      "execution_count": null,
      "outputs": []
    },
    {
      "cell_type": "code",
      "source": [
        "import cv2\n",
        "import os, datetime\n",
        "import random\n",
        "from os import listdir\n",
        "import shutil\n",
        "import time"
      ],
      "metadata": {
        "id": "v2j_E0mAl9xz"
      },
      "execution_count": null,
      "outputs": []
    },
    {
      "cell_type": "code",
      "source": [
        "#mount Google Drive\n",
        "from google.colab import drive\n",
        "drive.mount(DRIVE_MOUNT_FOLDER, force_remount=True)\n",
        "!ln -s $DRIVE_BASE_PROJECT $COLAB_BASE_PROJECT"
      ],
      "metadata": {
        "id": "GQYm729Djwvb"
      },
      "execution_count": null,
      "outputs": []
    },
    {
      "cell_type": "code",
      "source": [
        "# Empty folder OUTPUT_IMAGES_FOLDER\n",
        "shutil.rmtree(DRIVE_IMAGES_FOLDER, ignore_errors=True)\n",
        "os.makedirs(DRIVE_IMAGES_FOLDER, exist_ok=True)"
      ],
      "metadata": {
        "id": "C1-CAh6-mnTt"
      },
      "execution_count": null,
      "outputs": []
    },
    {
      "cell_type": "code",
      "source": [
        "# Extract random images in OUTPUT_IMAGES_FOLDER from each video in INPUT_VIDEOS_FOLDER\n",
        "videos = os.listdir(DRIVE_VIDEO_FOLDER)\n",
        "\n",
        "for i,video in enumerate(videos):\n",
        "  \n",
        "  if not video.endswith(\".mp4\"):\n",
        "    continue;\n",
        "\n",
        "  cap = cv2.VideoCapture(f\"{DRIVE_VIDEO_FOLDER}/{video}\")\n",
        "\n",
        "  if not cap.isOpened(): \n",
        "    print(f'Could not open video {video}, {i+1}/{len(videos)}')\n",
        "    break;\n",
        "\n",
        "  length = int(cap.get(cv2.CAP_PROP_FRAME_COUNT))\n",
        "  print(f'Processing video {video} with {length} frames, {i+1}/{len(videos)}')\n",
        "\n",
        "  deck = list(range(int(length * INTERVAL_FRAMES[0]), int(length * INTERVAL_FRAMES[1])))\n",
        "\n",
        "  if len(deck) < MAX_NUMBER_OF_FRAMES_PER_VIDEO:\n",
        "    print(f'Video {video} does not contain enough frames ({length} total frames) to extract in according to MAX_NUMBER_OF_FRAMES_PER_VIDEO ({MAX_NUMBER_OF_FRAMES_PER_VIDEO}) set')\n",
        "    break;\n",
        "\n",
        "  random.shuffle(deck)  \n",
        "\n",
        "  num_image = 0      \n",
        "  counter = 0;\n",
        "\n",
        "  while num_image < MAX_NUMBER_OF_FRAMES_PER_VIDEO:\n",
        "    num_frame = deck.pop(0)\n",
        "    cap.set(cv2.CAP_PROP_POS_FRAMES, num_frame - 1)\n",
        "    success, image = cap.read()\n",
        "    if success:\n",
        "      index = video.split('_')[0]\n",
        "      file_name = f'{num_frame}_{index}.jpg'\n",
        "      path = os.path.join(DRIVE_IMAGES_FOLDER, file_name)\n",
        "      cv2.imwrite(path, image)\n",
        "      print(f\"\\rExtracting random frame {counter + 1} of {MAX_NUMBER_OF_FRAMES_PER_VIDEO}\", end='', flush=True) \n",
        "      num_image += 1\n",
        "      counter += 1\n",
        "    else:\n",
        "      print(f'Error in reading frame {num_frame}...')\n",
        "\n",
        "  print('\\n')"
      ],
      "metadata": {
        "id": "qQmRY7GNNZ-q"
      },
      "execution_count": null,
      "outputs": []
    }
  ]
}