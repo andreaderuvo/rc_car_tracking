{
  "cells": [
    {
      "cell_type": "markdown",
      "metadata": {
        "id": "view-in-github",
        "colab_type": "text"
      },
      "source": [
        "<a href=\"https://colab.research.google.com/github/andreaderuvo/rc_car_tracking/blob/main/C8_train_deepsort.ipynb\" target=\"_parent\"><img src=\"https://colab.research.google.com/assets/colab-badge.svg\" alt=\"Open In Colab\"/></a>"
      ]
    },
    {
      "cell_type": "code",
      "execution_count": null,
      "metadata": {
        "id": "69ayxSzzrbH0"
      },
      "outputs": [],
      "source": [
        "#install tensorflow-gpu\n",
        "%tensorflow_version 1.x\n",
        "!pip install tensorflow-gpu==1.15.0"
      ]
    },
    {
      "cell_type": "code",
      "execution_count": null,
      "metadata": {
        "id": "7LL_M1MAcSWK"
      },
      "outputs": [],
      "source": [
        "#import tensorflow and check version\n",
        "import tensorflow\n",
        "print(tensorflow.__version__)"
      ]
    },
    {
      "cell_type": "code",
      "execution_count": null,
      "metadata": {
        "id": "sbRMzZMnVOgz"
      },
      "outputs": [],
      "source": [
        "#configuration\n",
        "PROJECT = 'rc_car_tracking'\n",
        "MODEL = 'deepsort'\n",
        "\n",
        "COLAB_BASE_PROJECT = f'/content/{PROJECT}'\n",
        "DRIVE_MOUNT_FOLDER = 'drive'\n",
        "DRIVE_BASE_PROJECT = f'{DRIVE_MOUNT_FOLDER}/MyDrive/{PROJECT}'\n",
        "DRIVE_TRAIN_FOLDER = f'{MODEL}_train'\n",
        "DRIVE_DATASET_FOLDER = f'{MODEL}_dataset'\n",
        "\n",
        "TRAIN_BATCH_SIZE=8\n",
        "TRAIN_NUMBER_OF_STEPS=20000"
      ]
    },
    {
      "cell_type": "code",
      "execution_count": null,
      "metadata": {
        "id": "tS3x465wZ5Sh"
      },
      "outputs": [],
      "source": [
        "import os\n",
        "import shutil"
      ]
    },
    {
      "cell_type": "code",
      "execution_count": null,
      "metadata": {
        "id": "Thkb5yKTVV_t"
      },
      "outputs": [],
      "source": [
        "#mount Google Drive\n",
        "from google.colab import drive\n",
        "drive.mount(DRIVE_MOUNT_FOLDER, force_remount=True)"
      ]
    },
    {
      "cell_type": "code",
      "execution_count": null,
      "metadata": {
        "id": "n-TCEo6dS_2r"
      },
      "outputs": [],
      "source": [
        "#symbolic link pointing the google drive base project\n",
        "!ln -s $DRIVE_BASE_PROJECT $COLAB_BASE_PROJECT"
      ]
    },
    {
      "cell_type": "code",
      "execution_count": null,
      "metadata": {
        "id": "Dq-sprlIU_sk"
      },
      "outputs": [],
      "source": [
        "os.makedirs(os.path.join(COLAB_BASE_PROJECT, DRIVE_TRAIN_FOLDER), exist_ok = True)"
      ]
    },
    {
      "cell_type": "code",
      "execution_count": null,
      "metadata": {
        "id": "Gaa9bBAjqiiY"
      },
      "outputs": [],
      "source": [
        "#cloning the cosine_metric_learning repo\n",
        "!git clone https://github.com/nwojke/cosine_metric_learning"
      ]
    },
    {
      "cell_type": "code",
      "execution_count": null,
      "metadata": {
        "id": "PkIJx8u1cIA0"
      },
      "outputs": [],
      "source": [
        "%cd cosine_metric_learning/"
      ]
    },
    {
      "cell_type": "code",
      "execution_count": null,
      "metadata": {
        "id": "QitzCMhsrRNX"
      },
      "outputs": [],
      "source": [
        "#download and place customized files for custom dataset\n",
        "!wget https://raw.githubusercontent.com/andreaderuvo/rc_car_tracking/main/cosine_metric_learning/datasets/rc.py\n",
        "!mv rc.py datasets/rc.py\n",
        "!wget https://raw.githubusercontent.com/andreaderuvo/rc_car_tracking/main/cosine_metric_learning/train_rc.py\n",
        "!wget https://raw.githubusercontent.com/andreaderuvo/rc_car_tracking/main/cosine_metric_learning/train_app.py"
      ]
    },
    {
      "cell_type": "code",
      "execution_count": null,
      "metadata": {
        "id": "fpSxnBezSxnl"
      },
      "outputs": [],
      "source": [
        "!rm -rf $COLAB_BASE_PROJECT/$DRIVE_TRAIN_FOLDER/log/train"
      ]
    },
    {
      "cell_type": "code",
      "execution_count": null,
      "metadata": {
        "id": "3OlkQ0jltsMr"
      },
      "outputs": [],
      "source": [
        "#train\n",
        "!python train_rc.py --dataset_dir=$COLAB_BASE_PROJECT/$DRIVE_DATASET_FOLDER --loss_mode=cosine-softmax --log_dir=$COLAB_BASE_PROJECT/$DRIVE_TRAIN_FOLDER/log/train --run_id=cosine-softmax --batch_size=$TRAIN_BATCH_SIZE --number_of_steps=$TRAIN_NUMBER_OF_STEPS"
      ]
    },
    {
      "cell_type": "code",
      "execution_count": null,
      "metadata": {
        "id": "bgkIH0tGgEgU"
      },
      "outputs": [],
      "source": [
        "%load_ext tensorboard\n",
        "\n",
        "%tensorboard --logdir $COLAB_BASE_PROJECT/$DRIVE_TRAIN_FOLDER/log/train"
      ]
    },
    {
      "cell_type": "code",
      "execution_count": null,
      "metadata": {
        "id": "6W6MJB2HwTFK"
      },
      "outputs": [],
      "source": [
        "#!python train_veri.py --mode='finalize' --restore_path='/content/log/rc/cosine-softmax/model.ckpt-0' --batch_size=2"
      ]
    },
    {
      "cell_type": "code",
      "execution_count": null,
      "metadata": {
        "id": "-X4jPXn4vuDK"
      },
      "outputs": [],
      "source": [
        "!mkdir $COLAB_BASE_PROJECT/$DRIVE_TRAIN_FOLDER/frozen\n",
        "!python train_rc.py --restore_path=$COLAB_BASE_PROJECT/$DRIVE_TRAIN_FOLDER/log/train/cosine-softmax/model.ckpt-10000 --mode=freeze --frozen_output=$COLAB_BASE_PROJECT/$DRIVE_TRAIN_FOLDER/frozen/rccar.pb"
      ]
    }
  ],
  "metadata": {
    "accelerator": "GPU",
    "colab": {
      "background_execution": "on",
      "collapsed_sections": [],
      "name": "train_deepsort.ipynb",
      "provenance": [],
      "authorship_tag": "ABX9TyOwcodHOv+ny7WDlwYlwJ1l",
      "include_colab_link": true
    },
    "gpuClass": "standard",
    "kernelspec": {
      "display_name": "Python 3",
      "name": "python3"
    },
    "language_info": {
      "name": "python"
    }
  },
  "nbformat": 4,
  "nbformat_minor": 0
}