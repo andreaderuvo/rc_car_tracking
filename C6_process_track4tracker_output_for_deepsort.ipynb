{
  "nbformat": 4,
  "nbformat_minor": 0,
  "metadata": {
    "colab": {
      "name": "track4tracker.ipynb",
      "provenance": [],
      "collapsed_sections": [],
      "authorship_tag": "ABX9TyM9unfPlufwONleTXNNr4lE",
      "include_colab_link": true
    },
    "kernelspec": {
      "name": "python3",
      "display_name": "Python 3"
    },
    "language_info": {
      "name": "python"
    }
  },
  "cells": [
    {
      "cell_type": "markdown",
      "metadata": {
        "id": "view-in-github",
        "colab_type": "text"
      },
      "source": [
        "<a href=\"https://colab.research.google.com/github/andreaderuvo/rc_car_tracking/blob/main/C6_process_track4tracker_output_for_deepsort.ipynb\" target=\"_parent\"><img src=\"https://colab.research.google.com/assets/colab-badge.svg\" alt=\"Open In Colab\"/></a>"
      ]
    },
    {
      "cell_type": "code",
      "source": [
        "#config\n",
        "PROJECT = 'rc_car_tracking'\n",
        "MODEL = 'deepsort'\n",
        "\n",
        "COLAB_BASE_PROJECT = f'/content/{PROJECT}'\n",
        "\n",
        "DRIVE_MOUNT_FOLDER = 'drive'\n",
        "DRIVE_BASE_PROJECT = f'{DRIVE_MOUNT_FOLDER}/MyDrive/{PROJECT}'\n",
        "DRIVE_IMAGES_FOLDER = f'{MODEL}_images'\n",
        "DRIVE_DATASET_FOLDER = f'{MODEL}_dataset'\n",
        "DRIVE_TRACK4TRACKER_FOLDER = f'{MODEL}_track4tracker'\n",
        "\n",
        "COSINE_METRIC_LEARNING_CAMERA_ID = 1\n",
        "COSINE_METRIC_LEARNING_TRAIN_FOLDER = 'image_train'\n",
        "COSINE_METRIC_LEARNING_TEST_FOLDER = 'image_test'\n",
        "\n",
        "TRAIN_PERCENTAGE = 0.8\n",
        "WRITE_MODE = True"
      ],
      "metadata": {
        "id": "frjE6olHmN-x"
      },
      "execution_count": null,
      "outputs": []
    },
    {
      "cell_type": "code",
      "source": [
        "#imports\n",
        "import json\n",
        "import cv2\n",
        "import os\n",
        "import time\n",
        "import shutil\n",
        "import sys\n",
        "from google.colab.patches import cv2_imshow\n",
        "from google.colab import drive"
      ],
      "metadata": {
        "id": "ebkNotoTmBZQ"
      },
      "execution_count": null,
      "outputs": []
    },
    {
      "cell_type": "code",
      "source": [
        "#google drive\n",
        "drive.mount(DRIVE_MOUNT_FOLDER, force_remount=True)"
      ],
      "metadata": {
        "id": "fZFBcDOkt0M4"
      },
      "execution_count": null,
      "outputs": []
    },
    {
      "cell_type": "code",
      "source": [
        "#symbolic link\n",
        "!ln -s $DRIVE_BASE_PROJECT $COLAB_BASE_PROJECT"
      ],
      "metadata": {
        "id": "JyaNqeF7uAOx"
      },
      "execution_count": null,
      "outputs": []
    },
    {
      "cell_type": "code",
      "source": [
        "# init COSINE_METRIC_LEARNING_TRAIN_FOLDER and COSINE_METRIC_LEARNING_TEST_FOLDER\n",
        "shutil.rmtree(f'{COLAB_BASE_PROJECT}/{DRIVE_DATASET_FOLDER}/{COSINE_METRIC_LEARNING_TRAIN_FOLDER}', ignore_errors=True)\n",
        "os.makedirs(f'{COLAB_BASE_PROJECT}/{DRIVE_DATASET_FOLDER}/{COSINE_METRIC_LEARNING_TRAIN_FOLDER}', exist_ok=True)\n",
        "\n",
        "shutil.rmtree(f'{COLAB_BASE_PROJECT}/{DRIVE_DATASET_FOLDER}/{COSINE_METRIC_LEARNING_TEST_FOLDER}', ignore_errors=True)\n",
        "os.makedirs(f'{COLAB_BASE_PROJECT}/{DRIVE_DATASET_FOLDER}/{COSINE_METRIC_LEARNING_TEST_FOLDER}', exist_ok=True)"
      ],
      "metadata": {
        "id": "jVgZ7meG8pnJ"
      },
      "execution_count": null,
      "outputs": []
    },
    {
      "cell_type": "code",
      "source": [
        "#generating crops and relative trasformations\n",
        "import math\n",
        "\n",
        "start = time.time()\n",
        "\n",
        "temp = []\n",
        "\n",
        "json_folder = f'{COLAB_BASE_PROJECT}/{DRIVE_TRACK4TRACKER_FOLDER}'\n",
        "\n",
        "for i,file in enumerate(os.listdir(json_folder)):\n",
        "  entity_id = i + 1\n",
        "  \n",
        "  try:\n",
        "    f = open(os.path.join(f'{json_folder}/{file}'))\n",
        "    data = json.load(f)\n",
        "  except:\n",
        "    print(f'Error in loading JSON... {json_folder}/{file} :(')\n",
        "    sys.exit(1)\n",
        "\n",
        "  len_train = math.ceil(len(data) * TRAIN_PERCENTAGE)\n",
        "\n",
        "  for j, image in enumerate(data):\n",
        "    path = f'{COLAB_BASE_PROJECT}/{DRIVE_IMAGES_FOLDER}/{image}'\n",
        "\n",
        "    frame = image.split('_')[1].split('.')[0]\n",
        "\n",
        "    if not os.path.isfile(path):\n",
        "      print(f'File {path} not found...')\n",
        "      sys.exit(1)\n",
        "\n",
        "    box = data[image]\n",
        "    img = cv2.imread(path)\n",
        "    x = int(box[0])\n",
        "    y = int(box[1])\n",
        "    w = int(box[2])\n",
        "    h = int(box[3])\n",
        "\n",
        "    cropped = img[y:y+h, x:x+w]\n",
        "    #flip image horizzontally\n",
        "    flipped = cv2.flip(cropped, 1)\n",
        "    #rotate image\n",
        "    rotated = cv2.transpose(cropped)\n",
        "    rotated= cv2.flip(rotated,flipCode=1)\n",
        "\n",
        "    if WRITE_MODE:\n",
        "      output_folder = f'{COLAB_BASE_PROJECT}/{DRIVE_DATASET_FOLDER}/{COSINE_METRIC_LEARNING_TRAIN_FOLDER}'\n",
        "\n",
        "      #print(f'{output_folder}/{entity_id}_{COSINE_METRIC_LEARNING_CAMERA_ID}_{frame}.jpg')\n",
        "      cv2.imwrite(f'{output_folder}/{entity_id}_{COSINE_METRIC_LEARNING_CAMERA_ID}_{frame}.jpg', cropped)\n",
        "      cv2.imwrite(f'{output_folder}/{entity_id}_{COSINE_METRIC_LEARNING_CAMERA_ID}_{frame}_flipped.jpg', flipped)\n",
        "      cv2.imwrite(f'{output_folder}/{entity_id}_{COSINE_METRIC_LEARNING_CAMERA_ID}_{frame}_rotated.jpg', rotated)\n",
        "\n",
        "      output_folder = f'{COLAB_BASE_PROJECT}/{DRIVE_DATASET_FOLDER}/{COSINE_METRIC_LEARNING_TEST_FOLDER}'\n",
        "      cv2.imwrite(f'{output_folder}/{entity_id}_{COSINE_METRIC_LEARNING_CAMERA_ID}_{frame}.jpg', cropped)\n",
        "      cv2.imwrite(f'{output_folder}/{entity_id}_{COSINE_METRIC_LEARNING_CAMERA_ID}_{frame}_flipped.jpg', flipped)\n",
        "      cv2.imwrite(f'{output_folder}/{entity_id}_{COSINE_METRIC_LEARNING_CAMERA_ID}_{frame}_rotated.jpg', rotated)\n",
        "    else:\n",
        "      cv2_imshow(cropped)\n",
        "      cv2_imshow(flipped)\n",
        "      cv2_imshow(rotated)\n",
        "    \n",
        "    cv2.waitKey(0)\n",
        "\n",
        "  f.close()\n",
        "\n",
        "end = time.time()\n",
        "print(f\"Job finished in {end-start} seconds :)\")"
      ],
      "metadata": {
        "id": "yirlEbs91_ot"
      },
      "execution_count": null,
      "outputs": []
    }
  ]
}